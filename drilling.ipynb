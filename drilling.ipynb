{
 "cells": [
  {
   "cell_type": "code",
   "execution_count": 1,
   "metadata": {
    "collapsed": false,
    "ExecuteTime": {
     "end_time": "2024-01-04T14:06:08.386648Z",
     "start_time": "2024-01-04T14:06:08.204765Z"
    }
   },
   "outputs": [],
   "source": [
    "from pydriller import Repository"
   ],
   "id": "3173d63589fd948a"
  },
  {
   "cell_type": "code",
   "execution_count": 2,
   "metadata": {
    "collapsed": false,
    "ExecuteTime": {
     "end_time": "2024-01-04T14:06:15.621998Z",
     "start_time": "2024-01-04T14:06:15.585660Z"
    }
   },
   "outputs": [],
   "source": [
    "repo_url = 'https://github.com/apache/tomcat.git'\n",
    "in_branch = 'main'\n",
    "commits = Repository(repo_url, only_in_branch=in_branch).traverse_commits()"
   ],
   "id": "d1d95fe2845ede63"
  },
  {
   "cell_type": "code",
   "execution_count": 3,
   "metadata": {
    "collapsed": false,
    "ExecuteTime": {
     "end_time": "2024-01-04T14:06:16.423076Z",
     "start_time": "2024-01-04T14:06:16.402134Z"
    }
   },
   "outputs": [],
   "source": [
    "def is_test_file(filename):\n",
    "    return filename.endswith(\".java\") and \"Test\" in filename \n",
    "\n",
    "def is_class_file(filename):\n",
    "    return filename.endswith(\".java\") and \"Test\" not in filename\n",
    "\n",
    "def get_class_file_name(test_filename):\n",
    "    return test_filename.replace(\"Test\", \"\")\n",
    "\n",
    "# \"Test\" are written at the end\n",
    "def get_test_file_name_v1(class_filename):\n",
    "    return class_filename.replace(\".java\", \"Test.java\")\n",
    "\n",
    "# \"Test\" are written at the beginning\n",
    "def get_test_file_name_v2(class_filename):\n",
    "    return \"Test\" + class_filename"
   ],
   "id": "c8c101010e52f299"
  },
  {
   "cell_type": "code",
   "execution_count": 4,
   "metadata": {
    "collapsed": false,
    "ExecuteTime": {
     "end_time": "2024-01-04T14:06:16.878459Z",
     "start_time": "2024-01-04T14:06:16.809778Z"
    }
   },
   "outputs": [],
   "source": [
    "def tdd_check():\n",
    "    visited_test_files = []\n",
    "    visited_class_files = []\n",
    "    before_set = []\n",
    "    same_set = []\n",
    "    before = 0\n",
    "    non_tdd = 0\n",
    "    same = 0\n",
    "    commit_count = 0\n",
    "    merge_commit_count = 0\n",
    "    test_file_count = 0\n",
    "    class_file_count = 0\n",
    "    mismatch_count = 0\n",
    "    sizes_of_tdd_commit = []\n",
    "    sizes_of_same_commit = []\n",
    "\n",
    "    for (index, commit) in enumerate(commits):\n",
    "        commit_count += 1\n",
    "        if commit.merge:\n",
    "            merge_commit_count += 1\n",
    "        changed_files = []\n",
    "        for f in commit.modified_files:\n",
    "            if f.change_type.name == \"ADD\" or f.change_type.name == \"RENAME\":\n",
    "                changed_files.append(f.filename)\n",
    "        for file in changed_files:\n",
    "            if is_test_file(file) and file not in visited_test_files:\n",
    "                test_file_count += 1\n",
    "                if get_class_file_name(file) in visited_class_files:\n",
    "                    non_tdd += 1\n",
    "                elif get_class_file_name(file) in changed_files:\n",
    "                    print(\"If the 'same' is a merge commit:\", commit.merge)\n",
    "                    same += 1\n",
    "                    same_set.append(file)\n",
    "                    sizes_of_same_commit.append(len(commit.modified_files))\n",
    "                else:\n",
    "                    mismatch_count += 1\n",
    "            if is_class_file(file) and file not in visited_class_files:\n",
    "                class_file_count += 1\n",
    "                if get_test_file_name_v1(file) in visited_test_files or get_test_file_name_v2(file) in visited_test_files:\n",
    "                    print(\"If the 'TDD' is a merge commit:\", commit.merge)\n",
    "                    before += 1\n",
    "                    before_set.append(file)\n",
    "                    sizes_of_tdd_commit.append(len(commit.modified_files))\n",
    "                else:\n",
    "                    mismatch_count += 1\n",
    "        # increase visited files after all modified files are visited\n",
    "        for file in changed_files:\n",
    "            if is_class_file(file):\n",
    "                visited_class_files.append(file)\n",
    "            if is_test_file(file):\n",
    "                visited_test_files.append(file)\n",
    "\n",
    "    print(\"Total Commits:\", commit_count)\n",
    "    print(\"Merge commits:\", merge_commit_count)\n",
    "    print(\"Test files:\", test_file_count)\n",
    "    print(\"Class files:\", class_file_count)\n",
    "    print(\"# cases that test file is created before the class file:\", before)\n",
    "    print(\"# cases that test file and class file are created in the same commit:\", same)\n",
    "    print(\"# cases that test file is created after the class file (Non-TDD):\", non_tdd)\n",
    "    print(\"# cases that a test file cannot find its class file and a class file cannot find its test file:\", mismatch_count)\n",
    "    print(\"The class files using TDD:\", before_set)\n",
    "    print(\"The class files that are created with their test files in the same commit:\", same_set)\n",
    "    print(\"Sizes of tdd commits:\", sizes_of_tdd_commit)\n",
    "    print(\"Sizes of same commits:\", sizes_of_same_commit)\n"
   ],
   "id": "14a0ea68dec8da8d"
  },
  {
   "cell_type": "code",
   "execution_count": null,
   "metadata": {
    "collapsed": false,
    "is_executing": true,
    "ExecuteTime": {
     "start_time": "2024-01-04T14:06:17.545291Z"
    }
   },
   "outputs": [
    {
     "name": "stdout",
     "output_type": "stream",
     "text": [
      "If the 'same' is a merge commit: False\n",
      "If the 'same' is a merge commit: False\n",
      "If the 'same' is a merge commit: False\n",
      "If the 'same' is a merge commit: False\n",
      "If the 'same' is a merge commit: False\n",
      "If the 'same' is a merge commit: False\n",
      "If the 'same' is a merge commit: False\n",
      "If the 'same' is a merge commit: False\n",
      "If the 'same' is a merge commit: False\n",
      "If the 'same' is a merge commit: False\n",
      "If the 'same' is a merge commit: False\n",
      "If the 'same' is a merge commit: False\n",
      "If the 'same' is a merge commit: False\n",
      "If the 'same' is a merge commit: False\n",
      "If the 'same' is a merge commit: False\n",
      "If the 'same' is a merge commit: False\n",
      "If the 'TDD' is a merge commit: False\n",
      "If the 'TDD' is a merge commit: False\n",
      "If the 'same' is a merge commit: False\n",
      "If the 'same' is a merge commit: False\n",
      "If the 'same' is a merge commit: False\n",
      "If the 'same' is a merge commit: False\n",
      "If the 'same' is a merge commit: False\n",
      "If the 'same' is a merge commit: False\n",
      "If the 'same' is a merge commit: False\n",
      "If the 'same' is a merge commit: False\n",
      "If the 'same' is a merge commit: False\n",
      "If the 'same' is a merge commit: False\n",
      "If the 'same' is a merge commit: False\n",
      "If the 'same' is a merge commit: False\n",
      "If the 'same' is a merge commit: False\n",
      "If the 'same' is a merge commit: False\n",
      "If the 'same' is a merge commit: False\n",
      "If the 'TDD' is a merge commit: False\n",
      "If the 'same' is a merge commit: False\n",
      "If the 'same' is a merge commit: False\n",
      "If the 'same' is a merge commit: False\n",
      "If the 'same' is a merge commit: False\n",
      "If the 'same' is a merge commit: False\n",
      "If the 'same' is a merge commit: False\n",
      "If the 'same' is a merge commit: False\n",
      "If the 'same' is a merge commit: False\n"
     ]
    }
   ],
   "source": [
    "tdd_check()"
   ],
   "id": "ca0e462307b18667"
  },
  {
   "cell_type": "code",
   "execution_count": null,
   "outputs": [],
   "source": [],
   "metadata": {
    "collapsed": false
   },
   "id": "39ad4a7e74cb421c"
  }
 ],
 "metadata": {
  "kernelspec": {
   "display_name": "Python 3",
   "language": "python",
   "name": "python3"
  },
  "language_info": {
   "codemirror_mode": {
    "name": "ipython",
    "version": 2
   },
   "file_extension": ".py",
   "mimetype": "text/x-python",
   "name": "python",
   "nbconvert_exporter": "python",
   "pygments_lexer": "ipython2",
   "version": "2.7.6"
  }
 },
 "nbformat": 4,
 "nbformat_minor": 5
}
