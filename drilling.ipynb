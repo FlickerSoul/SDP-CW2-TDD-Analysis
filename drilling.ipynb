{
 "cells": [
  {
   "cell_type": "code",
   "execution_count": 1,
   "metadata": {
    "collapsed": false,
    "ExecuteTime": {
     "end_time": "2024-01-01T19:48:06.001510Z",
     "start_time": "2024-01-01T19:48:05.852685Z"
    }
   },
   "outputs": [],
   "source": [
    "from pydriller import Repository\n",
    "from pydriller.metrics.process import commits_count"
   ],
   "id": "3173d63589fd948a"
  },
  {
   "cell_type": "code",
   "execution_count": 58,
   "metadata": {
    "collapsed": false,
    "ExecuteTime": {
     "end_time": "2024-01-01T21:49:32.689626Z",
     "start_time": "2024-01-01T21:49:32.674256Z"
    }
   },
   "outputs": [],
   "source": [
    "commits = Repository('https://github.com/apache/seatunnel.git', only_in_branch='dev').traverse_commits()"
   ],
   "id": "d1d95fe2845ede63"
  },
  {
   "cell_type": "code",
   "execution_count": 59,
   "metadata": {
    "collapsed": false,
    "ExecuteTime": {
     "end_time": "2024-01-01T21:49:33.152083Z",
     "start_time": "2024-01-01T21:49:33.147809Z"
    }
   },
   "outputs": [],
   "source": [
    "def is_test_file(filename):\n",
    "    return filename.endswith(\".java\") and \"Test\" in filename \n",
    "\n",
    "def is_class_file(filename):\n",
    "    return filename.endswith(\".java\") and \"Test\" not in filename\n",
    "\n",
    "def get_class_file_name(test_filename):\n",
    "    return test_filename.replace(\"Test\", \"\")\n",
    "\n",
    "# \"Test\" are written at the end\n",
    "def get_test_file_name_v1(class_filename):\n",
    "    return class_filename.replace(\".java\", \"Test.java\")\n",
    "\n",
    "# \"Test\" are written at the beginning\n",
    "def get_test_file_name_v2(class_filename):\n",
    "    return \"Test\" + class_filename"
   ],
   "id": "c8c101010e52f299"
  },
  {
   "cell_type": "code",
   "execution_count": 60,
   "metadata": {
    "collapsed": false,
    "ExecuteTime": {
     "end_time": "2024-01-01T21:49:33.848415Z",
     "start_time": "2024-01-01T21:49:33.839133Z"
    }
   },
   "outputs": [],
   "source": [
    "def tdd_check():\n",
    "    visited_test_files = []\n",
    "    visited_class_files = []\n",
    "    tdd_set = []\n",
    "    same_set = []\n",
    "    tdd = 0\n",
    "    non_tdd = 0\n",
    "    same = 0\n",
    "    commit_count = 0\n",
    "    merge_commit_count = 0\n",
    "    test_file_count = 0\n",
    "    class_file_count = 0\n",
    "    mismatch_count = 0\n",
    "    sizes_of_tdd_commit = []\n",
    "    sizes_of_same_commit = []\n",
    "\n",
    "    for (index, commit) in enumerate(commits):\n",
    "        commit_count += 1\n",
    "        if commit.merge:\n",
    "            merge_commit_count += 1\n",
    "        changed_files = []\n",
    "        for f in commit.modified_files:\n",
    "            if f.change_type.name == \"ADD\":\n",
    "                changed_files.append(f.filename)\n",
    "        for file in changed_files:\n",
    "            if is_test_file(file) and file not in visited_test_files:\n",
    "                test_file_count += 1\n",
    "                if get_class_file_name(file) in visited_class_files:\n",
    "                    non_tdd += 1\n",
    "                elif get_class_file_name(file) in changed_files:\n",
    "                    print(\"If the 'same' is a merge commit:\", commit.merge)\n",
    "                    same += 1\n",
    "                    same_set.append(file)\n",
    "                    sizes_of_same_commit.append(len(commit.modified_files))\n",
    "                else:\n",
    "                    mismatch_count += 1\n",
    "            if is_class_file(file) and file not in visited_class_files:\n",
    "                class_file_count += 1\n",
    "                if get_test_file_name_v1(file) in visited_test_files or get_test_file_name_v2(file) in visited_test_files:\n",
    "                    print(\"If the 'TDD' is a merge commit:\", commit.merge)\n",
    "                    tdd += 1\n",
    "                    tdd_set.append(file)\n",
    "                    sizes_of_tdd_commit.append(len(commit.modified_files))\n",
    "                else:\n",
    "                    mismatch_count += 1\n",
    "        # increase visited files after all modified files are visited\n",
    "        for file in changed_files:\n",
    "            if is_class_file(file):\n",
    "                visited_class_files.append(file)\n",
    "            if is_test_file(file):\n",
    "                visited_test_files.append(file)\n",
    "\n",
    "    print(\"Total Commits:\", commit_count)\n",
    "    print(\"Merge commits:\", merge_commit_count)\n",
    "    print(\"Test files:\", test_file_count)\n",
    "    print(\"Class files:\", class_file_count)\n",
    "    print(\"# cases that test file is created before the class file:\", tdd)\n",
    "    print(\"# cases that test file and class file are created in the same commit:\", same)\n",
    "    print(\"# cases that test file is created after the class file (Non-TDD):\", non_tdd)\n",
    "    print(\"# cases that a test file cannot find its class file and a class file cannot find its test file:\", mismatch_count)\n",
    "    print(\"The class files using TDD:\", tdd_set)\n",
    "    print(\"The class files that are created with their test files in the same commit:\", same_set)\n",
    "    print(\"Sizes of tdd commits:\", sizes_of_tdd_commit)\n",
    "    print(\"Sizes of same commits:\", sizes_of_same_commit)\n"
   ],
   "id": "14a0ea68dec8da8d"
  },
  {
   "cell_type": "code",
   "execution_count": 61,
   "metadata": {
    "collapsed": false,
    "ExecuteTime": {
     "end_time": "2024-01-01T21:52:35.359069Z",
     "start_time": "2024-01-01T21:49:34.838084Z"
    }
   },
   "outputs": [
    {
     "name": "stdout",
     "output_type": "stream",
     "text": [
      "If the 'same' is a merge commit: False\n",
      "If the 'same' is a merge commit: False\n",
      "If the 'same' is a merge commit: False\n",
      "If the 'same' is a merge commit: False\n",
      "If the 'same' is a merge commit: False\n",
      "If the 'same' is a merge commit: False\n",
      "If the 'same' is a merge commit: False\n",
      "If the 'same' is a merge commit: False\n",
      "If the 'same' is a merge commit: False\n",
      "If the 'same' is a merge commit: False\n",
      "If the 'same' is a merge commit: False\n",
      "If the 'same' is a merge commit: False\n",
      "If the 'same' is a merge commit: False\n",
      "If the 'same' is a merge commit: False\n",
      "If the 'same' is a merge commit: False\n",
      "If the 'same' is a merge commit: False\n",
      "If the 'same' is a merge commit: False\n",
      "If the 'same' is a merge commit: False\n",
      "If the 'same' is a merge commit: False\n",
      "If the 'same' is a merge commit: False\n",
      "If the 'same' is a merge commit: False\n",
      "If the 'same' is a merge commit: False\n",
      "If the 'same' is a merge commit: False\n",
      "If the 'same' is a merge commit: False\n",
      "If the 'same' is a merge commit: False\n",
      "If the 'same' is a merge commit: False\n",
      "If the 'same' is a merge commit: False\n",
      "If the 'same' is a merge commit: False\n",
      "If the 'same' is a merge commit: False\n",
      "If the 'same' is a merge commit: False\n",
      "If the 'same' is a merge commit: False\n",
      "If the 'same' is a merge commit: False\n",
      "If the 'same' is a merge commit: False\n",
      "If the 'same' is a merge commit: False\n",
      "If the 'same' is a merge commit: False\n",
      "If the 'same' is a merge commit: False\n",
      "If the 'same' is a merge commit: False\n",
      "If the 'same' is a merge commit: False\n",
      "If the 'same' is a merge commit: False\n",
      "If the 'same' is a merge commit: False\n",
      "If the 'same' is a merge commit: False\n",
      "If the 'same' is a merge commit: False\n",
      "If the 'same' is a merge commit: False\n",
      "If the 'same' is a merge commit: False\n",
      "If the 'same' is a merge commit: False\n",
      "If the 'same' is a merge commit: False\n",
      "If the 'same' is a merge commit: False\n",
      "If the 'same' is a merge commit: False\n",
      "If the 'same' is a merge commit: False\n",
      "If the 'same' is a merge commit: False\n",
      "If the 'same' is a merge commit: False\n",
      "If the 'same' is a merge commit: False\n",
      "If the 'same' is a merge commit: False\n",
      "If the 'same' is a merge commit: False\n",
      "If the 'same' is a merge commit: False\n",
      "If the 'same' is a merge commit: False\n",
      "If the 'same' is a merge commit: False\n",
      "If the 'same' is a merge commit: False\n",
      "If the 'same' is a merge commit: False\n",
      "If the 'same' is a merge commit: False\n",
      "If the 'same' is a merge commit: False\n",
      "If the 'same' is a merge commit: False\n",
      "If the 'same' is a merge commit: False\n",
      "If the 'same' is a merge commit: False\n",
      "If the 'same' is a merge commit: False\n",
      "If the 'same' is a merge commit: False\n",
      "If the 'same' is a merge commit: False\n",
      "If the 'same' is a merge commit: False\n",
      "If the 'same' is a merge commit: False\n",
      "If the 'same' is a merge commit: False\n",
      "If the 'same' is a merge commit: False\n",
      "If the 'same' is a merge commit: False\n",
      "Total Commits: 3695\n",
      "Merge commits: 299\n",
      "Test files: 266\n",
      "Class files: 2732\n",
      "# cases that test file is created before the class file: 0\n",
      "# cases that test file and class file are created in the same commit: 72\n",
      "# cases that test file is created after the class file (Non-TDD): 73\n",
      "# cases that a test file cannot find its class file and a class file cannot find its test file: 2853\n",
      "The class files using TDD: []\n",
      "The class files that are created with their test files in the same commit: ['CommandLineUtilsTest.java', 'CommandFactoryTest.java', 'VariablesSubstituteTest.java', 'SparkStarterTest.java', 'FlinkStarterTest.java', 'FileUtilsTest.java', 'FlinkEnvParameterParserTest.java', 'FlinkEnvParameterParserTest.java', 'CustomClassLoaderTest.java', 'FlinkCommandArgsTest.java', 'SparkCommandArgsTest.java', 'AssertExecutorTest.java', 'AssertRuleParserTest.java', 'AbstractJdbcCatalogTest.java', 'TestFileSinkPartitionDirNameGenerator.java', 'TestFileSinkTransactionFileNameGenerator.java', 'FileSinkAggregatedCommitterTest.java', 'TestHdfsTxtTransactionStateFileWriter.java', 'FileSinkAggregatedCommitterTest.java', 'TestLocalTxtTransactionStateFileWriter.java', 'OptionTest.java', 'ConditionTest.java', 'ExpressionTest.java', 'OptionRuleTest.java', 'SeaTunnelClientTest.java', 'JobConfigParserTest.java', 'LogicalDagGeneratorTest.java', 'TaskExecutionServiceTest.java', 'TestTask.java', 'LocalFileStorageTest.java', 'FakeRandomDataTest.java', 'CoordinatorServiceTest.java', 'Neo4jSourceReaderTest.java', 'OptionUtilTest.java', 'JobHistoryServiceTest.java', 'ConfigValidatorTest.java', 'PulsarSourceFactoryTest.java', 'IMapFileStorageTest.java', 'WALDisruptorTest.java', 'JobMetricsTest.java', 'MaxcomputeSourceFactoryTest.java', 'MySqlIncrementalSourceFactoryTest.java', 'FieldMapperTransformFactoryTest.java', 'StringFormatUtilsTest.java', 'SingleChoiceOptionTest.java', 'SqlServerIncrementalSourceFactoryTest.java', 'MysqlCreateTableSqlBuilderTest.java', 'KafkaDataTypeConvertorTest.java', 'StarRocksCatalogTest.java', 'JdbcUrlUtilTest.java', 'ConfDecryptCommandTest.java', 'ConfEncryptCommandTest.java', 'ConfigShadeTest.java', 'RowTypeConverterTest.java', 'PulsarCanalDecoratorTest.java', 'SnowflakeDataTypeConvertorTest.java', 'MongodbIncrementalSourceFactoryTest.java', 'OracleCatalogTest.java', 'PostgresCatalogTest.java', 'FlowControlGateTest.java', 'ReadonlyConfigParserTest.java', 'AmazonSqsSourceFactoryTest.java', 'MaxComputeDataTypeConvertorTest.java', 'ConnectorPackageClientTest.java', 'ConnectorPackageServiceTest.java', 'JsonPathTransformFactoryTest.java', 'ExceptionParamsUtilTest.java', 'MultipleTableFakeSourceConfigTest.java', 'AvroSerializationSchemaTest.java', 'HadoopLoginFactoryTest.java', 'GoogleSheetsErrorTest.java', 'HudiErrorTest.java']\n",
      "Sizes of tdd commits: []\n",
      "Sizes of same commits: [16, 32, 6, 16, 7, 12, 11, 11, 9, 59, 32, 12, 12, 11, 80, 80, 80, 80, 80, 80, 18, 18, 18, 18, 38, 35, 35, 8, 8, 19, 34, 35, 22, 27, 27, 13, 8, 27, 27, 37, 22, 11, 10, 10, 14, 3, 16, 11, 16, 12, 46, 46, 46, 32, 26, 16, 50, 53, 53, 14, 85, 24, 15, 114, 114, 19, 220, 19, 24, 48, 13, 27]\n"
     ]
    }
   ],
   "source": [
    "tdd_check()"
   ],
   "id": "ca0e462307b18667"
  },
  {
   "cell_type": "code",
   "execution_count": null,
   "outputs": [],
   "source": [],
   "metadata": {
    "collapsed": false
   },
   "id": "39ad4a7e74cb421c"
  }
 ],
 "metadata": {
  "kernelspec": {
   "display_name": "Python 3",
   "language": "python",
   "name": "python3"
  },
  "language_info": {
   "codemirror_mode": {
    "name": "ipython",
    "version": 2
   },
   "file_extension": ".py",
   "mimetype": "text/x-python",
   "name": "python",
   "nbconvert_exporter": "python",
   "pygments_lexer": "ipython2",
   "version": "2.7.6"
  }
 },
 "nbformat": 4,
 "nbformat_minor": 5
}
