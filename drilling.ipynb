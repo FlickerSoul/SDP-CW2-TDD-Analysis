{
 "cells": [
  {
   "cell_type": "code",
   "execution_count": 1,
   "metadata": {
    "collapsed": false,
    "ExecuteTime": {
     "end_time": "2024-01-05T13:48:11.853323Z",
     "start_time": "2024-01-05T13:48:11.786169Z"
    }
   },
   "outputs": [],
   "source": [
    "import pathlib\n",
    "\n",
    "from pydriller import Repository"
   ],
   "id": "3173d63589fd948a"
  },
  {
   "cell_type": "code",
   "execution_count": 2,
   "outputs": [],
   "source": [
    "test_module_base_path = pathlib.Path(\"./test_submodules\")\n",
    "repos: dict[str, str] = dict(\n",
    "    map(\n",
    "        lambda t: [t[0], str(t[1].absolute())], \n",
    "        {\n",
    "            \"seatunnel\": test_module_base_path / \"seatunnel\",\n",
    "            \"ozone\": test_module_base_path / \"ozone\",\n",
    "            \"shenyu\": test_module_base_path / \"shenyu\",\n",
    "            \"dubbo\": test_module_base_path / \"dubboj\",\n",
    "            \"tomcat\": test_module_base_path / \"tomcat\",\n",
    "        }.items()\n",
    "    )\n",
    ")"
   ],
   "metadata": {
    "collapsed": false,
    "ExecuteTime": {
     "end_time": "2024-01-05T13:48:11.857795Z",
     "start_time": "2024-01-05T13:48:11.854551Z"
    }
   },
   "id": "b658ca0363f9c688"
  },
  {
   "cell_type": "code",
   "execution_count": 3,
   "metadata": {
    "collapsed": false,
    "ExecuteTime": {
     "end_time": "2024-01-05T13:48:11.859555Z",
     "start_time": "2024-01-05T13:48:11.857133Z"
    }
   },
   "outputs": [],
   "source": [
    "repo_url = repos[\"tomcat\"]\n",
    "in_branch = 'main'\n",
    "commits = Repository(repo_url, only_in_branch=in_branch).traverse_commits()"
   ],
   "id": "d1d95fe2845ede63"
  },
  {
   "cell_type": "code",
   "execution_count": 4,
   "metadata": {
    "collapsed": false,
    "ExecuteTime": {
     "end_time": "2024-01-05T13:48:11.862764Z",
     "start_time": "2024-01-05T13:48:11.860555Z"
    }
   },
   "outputs": [],
   "source": [
    "def is_test_file(filename):\n",
    "    return filename.endswith(\".java\") and \"Test\" in filename \n",
    "\n",
    "def is_class_file(filename):\n",
    "    return filename.endswith(\".java\") and \"Test\" not in filename\n",
    "\n",
    "def get_class_file_name(test_filename):\n",
    "    return test_filename.replace(\"Test\", \"\")\n",
    "\n",
    "# \"Test\" are written at the end\n",
    "def get_test_file_name_v1(class_filename):\n",
    "    return class_filename.replace(\".java\", \"Test.java\")\n",
    "\n",
    "# \"Test\" are written at the beginning\n",
    "def get_test_file_name_v2(class_filename):\n",
    "    return \"Test\" + class_filename"
   ],
   "id": "c8c101010e52f299"
  },
  {
   "cell_type": "code",
   "execution_count": 5,
   "metadata": {
    "collapsed": false,
    "ExecuteTime": {
     "end_time": "2024-01-05T13:48:11.867447Z",
     "start_time": "2024-01-05T13:48:11.865362Z"
    }
   },
   "outputs": [],
   "source": [
    "def tdd_check():\n",
    "    visited_test_files = []\n",
    "    visited_class_files = []\n",
    "    before_set = []\n",
    "    same_set = []\n",
    "    before = 0\n",
    "    non_tdd = 0\n",
    "    same = 0\n",
    "    commit_count = 0\n",
    "    merge_commit_count = 0\n",
    "    test_file_count = 0\n",
    "    class_file_count = 0\n",
    "    mismatch_count = 0\n",
    "    sizes_of_tdd_commit = []\n",
    "    sizes_of_same_commit = []\n",
    "\n",
    "    for (index, commit) in enumerate(commits):\n",
    "        commit_count += 1\n",
    "        if commit.merge:\n",
    "            merge_commit_count += 1\n",
    "        changed_files = []\n",
    "        for f in commit.modified_files:\n",
    "            if f.change_type.name == \"ADD\" or f.change_type.name == \"RENAME\":\n",
    "                changed_files.append(f.filename)\n",
    "        for file in changed_files:\n",
    "            if is_test_file(file) and file not in visited_test_files:\n",
    "                test_file_count += 1\n",
    "                if get_class_file_name(file) in visited_class_files:\n",
    "                    non_tdd += 1\n",
    "                elif get_class_file_name(file) in changed_files:\n",
    "                    print(\"If the 'same' is a merge commit:\", commit.merge)\n",
    "                    same += 1\n",
    "                    same_set.append(file)\n",
    "                    sizes_of_same_commit.append(len(commit.modified_files))\n",
    "                else:\n",
    "                    mismatch_count += 1\n",
    "            if is_class_file(file) and file not in visited_class_files:\n",
    "                class_file_count += 1\n",
    "                if get_test_file_name_v1(file) in visited_test_files or get_test_file_name_v2(file) in visited_test_files:\n",
    "                    print(\"If the 'TDD' is a merge commit:\", commit.merge)\n",
    "                    before += 1\n",
    "                    before_set.append(file)\n",
    "                    sizes_of_tdd_commit.append(len(commit.modified_files))\n",
    "                else:\n",
    "                    mismatch_count += 1\n",
    "        # increase visited files after all modified files are visited\n",
    "        for file in changed_files:\n",
    "            if is_class_file(file):\n",
    "                visited_class_files.append(file)\n",
    "            if is_test_file(file):\n",
    "                visited_test_files.append(file)\n",
    "\n",
    "    print(\"Total Commits:\", commit_count)\n",
    "    print(\"Merge commits:\", merge_commit_count)\n",
    "    print(\"Test files:\", test_file_count)\n",
    "    print(\"Class files:\", class_file_count)\n",
    "    print(\"# cases that test file is created before the class file:\", before)\n",
    "    print(\"# cases that test file and class file are created in the same commit:\", same)\n",
    "    print(\"# cases that test file is created after the class file (Non-TDD):\", non_tdd)\n",
    "    print(\"# cases that a test file cannot find its class file and a class file cannot find its test file:\", mismatch_count)\n",
    "    print(\"The class files using TDD:\", before_set)\n",
    "    print(\"The class files that are created with their test files in the same commit:\", same_set)\n",
    "    print(\"Sizes of tdd commits:\", sizes_of_tdd_commit)\n",
    "    print(\"Sizes of same commits:\", sizes_of_same_commit)\n"
   ],
   "id": "14a0ea68dec8da8d"
  },
  {
   "cell_type": "code",
   "execution_count": 6,
   "metadata": {
    "collapsed": false,
    "ExecuteTime": {
     "end_time": "2024-01-05T13:52:59.156555Z",
     "start_time": "2024-01-05T13:48:11.867879Z"
    }
   },
   "outputs": [
    {
     "name": "stdout",
     "output_type": "stream",
     "text": [
      "If the 'same' is a merge commit: False\n",
      "If the 'same' is a merge commit: False\n",
      "If the 'same' is a merge commit: False\n",
      "If the 'same' is a merge commit: False\n",
      "If the 'same' is a merge commit: False\n",
      "If the 'same' is a merge commit: False\n",
      "If the 'same' is a merge commit: False\n",
      "If the 'same' is a merge commit: False\n",
      "If the 'same' is a merge commit: False\n",
      "If the 'same' is a merge commit: False\n",
      "If the 'same' is a merge commit: False\n",
      "If the 'same' is a merge commit: False\n",
      "If the 'same' is a merge commit: False\n",
      "If the 'same' is a merge commit: False\n",
      "If the 'same' is a merge commit: False\n",
      "If the 'same' is a merge commit: False\n",
      "If the 'TDD' is a merge commit: False\n",
      "If the 'TDD' is a merge commit: False\n",
      "If the 'same' is a merge commit: False\n",
      "If the 'same' is a merge commit: False\n",
      "If the 'same' is a merge commit: False\n",
      "If the 'same' is a merge commit: False\n",
      "If the 'same' is a merge commit: False\n",
      "If the 'same' is a merge commit: False\n",
      "If the 'same' is a merge commit: False\n",
      "If the 'same' is a merge commit: False\n",
      "If the 'same' is a merge commit: False\n",
      "If the 'same' is a merge commit: False\n",
      "If the 'same' is a merge commit: False\n",
      "If the 'same' is a merge commit: False\n",
      "If the 'same' is a merge commit: False\n",
      "If the 'same' is a merge commit: False\n",
      "If the 'TDD' is a merge commit: False\n",
      "If the 'same' is a merge commit: False\n",
      "If the 'same' is a merge commit: False\n",
      "If the 'same' is a merge commit: False\n",
      "If the 'same' is a merge commit: False\n",
      "If the 'same' is a merge commit: False\n",
      "If the 'same' is a merge commit: False\n",
      "If the 'same' is a merge commit: False\n",
      "If the 'same' is a merge commit: False\n",
      "If the 'same' is a merge commit: False\n",
      "If the 'same' is a merge commit: False\n",
      "If the 'same' is a merge commit: False\n",
      "If the 'TDD' is a merge commit: False\n",
      "If the 'same' is a merge commit: False\n",
      "If the 'same' is a merge commit: False\n",
      "If the 'same' is a merge commit: False\n",
      "If the 'same' is a merge commit: False\n",
      "If the 'same' is a merge commit: False\n",
      "If the 'same' is a merge commit: False\n",
      "If the 'same' is a merge commit: False\n",
      "If the 'same' is a merge commit: False\n",
      "If the 'same' is a merge commit: False\n",
      "If the 'same' is a merge commit: False\n",
      "If the 'same' is a merge commit: False\n",
      "If the 'same' is a merge commit: False\n",
      "Total Commits: 25879\n",
      "Merge commits: 49\n",
      "Test files: 884\n",
      "Class files: 2956\n",
      "# cases that test file is created before the class file: 4\n",
      "# cases that test file and class file are created in the same commit: 54\n",
      "# cases that test file is created after the class file (Non-TDD): 288\n",
      "# cases that a test file cannot find its class file and a class file cannot find its test file: 3494\n",
      "The class files using TDD: ['MediaType.java', 'UpgradeServletInputStream.java', 'EncodingDetector.java', 'Upgrade.java']\n",
      "The class files that are created with their test files in the same commit: ['StatementFinalizerTest.java', 'RemoteIpValveTest.java', 'CompressFilterTest.java', 'TestExpiresFilter.java', 'DedicatedThreadExecutorTest.java', 'TestCounterLatch.java', 'TestLimitLatch.java', 'TestQueryTimeoutInterceptor.java', 'TestConcurrentStack.java', 'TestSynchronizedStack.java', 'TestSynchronizedQueue.java', 'AbstractTestResourceSet.java', 'TestDirResourceSet.java', 'TestFileResourceSet.java', 'TestJarResourceSet.java', 'TestHttpParser2.java', 'TestUriTemplate.java', 'TestELInterpreterFactory.java', 'TestCorsFilter.java', 'TestLocalResolver.java', 'TestWebappServiceLoader.java', 'TestTldParser.java', 'TestTldScanner.java', 'TestWarURLConnection.java', 'TestCookieFilter.java', 'TestCaseInsensitiveKeyMap.java', 'TestHpack.java', 'TestAbstractStream.java', 'TestConfigFileLoader.java', 'TestRestCsrfPreventionFilter.java', 'TestPersistentProviderRegistrations.java', 'TestLoadBalancerDrainingValve.java', 'IPv6UtilsTest.java', 'TestNetMask.java', 'TestVary.java', 'TestEncryptInterceptor.java', 'TestCharsetCache.java', 'TestSameSiteCookies.java', 'TestTokenList.java', 'TestQuotedStringTokenizer.java', 'TestCharsetUtil.java', 'TestJarContents.java', 'TestELInterpreterTagSetters.java', 'TestMethodReference.java', 'TestJSONFilter.java', 'TestBeanSupportFull.java', 'TestBeanSupportStandalone.java', 'TestRateLimitFilter.java', 'TestTimeBucketCounter.java', 'TestNetMaskSet.java', 'TestContextNamingInfoListener.java', 'TestOptionalELResolver.java', 'TestPropertiesRoleMappingListener.java', 'TestRecordELResolver.java']\n",
      "Sizes of tdd commits: [2, 9, 2, 5]\n",
      "Sizes of same commits: [3, 5, 27, 5, 3, 3, 9, 10, 3, 5, 3, 96, 96, 96, 96, 2, 6, 9, 9, 3, 3, 8, 10, 8, 4, 2, 8, 4, 2, 4, 6, 4, 6, 3, 2, 6, 5, 15, 4, 6, 5, 10, 24, 12, 4, 8, 8, 6, 6, 4, 5, 8, 12, 7]\n"
     ]
    }
   ],
   "source": [
    "tdd_check()"
   ],
   "id": "ca0e462307b18667"
  },
  {
   "cell_type": "code",
   "execution_count": 6,
   "outputs": [],
   "source": [],
   "metadata": {
    "collapsed": false,
    "ExecuteTime": {
     "end_time": "2024-01-05T13:52:59.158808Z",
     "start_time": "2024-01-05T13:52:59.155862Z"
    }
   },
   "id": "39ad4a7e74cb421c"
  }
 ],
 "metadata": {
  "kernelspec": {
   "display_name": "Python 3",
   "language": "python",
   "name": "python3"
  },
  "language_info": {
   "codemirror_mode": {
    "name": "ipython",
    "version": 2
   },
   "file_extension": ".py",
   "mimetype": "text/x-python",
   "name": "python",
   "nbconvert_exporter": "python",
   "pygments_lexer": "ipython2",
   "version": "2.7.6"
  }
 },
 "nbformat": 4,
 "nbformat_minor": 5
}
