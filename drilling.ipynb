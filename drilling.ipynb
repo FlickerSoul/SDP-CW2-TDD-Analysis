{
 "cells": [
  {
   "cell_type": "code",
   "execution_count": 4,
   "metadata": {
    "collapsed": false,
    "ExecuteTime": {
     "end_time": "2023-12-29T17:49:19.202376Z",
     "start_time": "2023-12-29T17:49:19.183514Z"
    }
   },
   "outputs": [],
   "source": [
    "from pydriller import Repository\n",
    "from pprint import pprint"
   ],
   "id": "3173d63589fd948a"
  },
  {
   "cell_type": "code",
   "execution_count": 10,
   "metadata": {
    "collapsed": false,
    "ExecuteTime": {
     "end_time": "2023-12-29T17:55:59.844918Z",
     "start_time": "2023-12-29T17:53:21.453081Z"
    }
   },
   "outputs": [],
   "source": [
    "with open('commits.txt', 'w') as file:\n",
    "  for commit in Repository('https://github.com/apache/seatunnel.git').traverse_commits():\n",
    "    for f in commit.modified_files:\n",
    "      file.write(f.filename + ' ')\n",
    "    file.write('\\n')"
   ],
   "id": "d1d95fe2845ede63"
  },
  {
   "cell_type": "code",
   "execution_count": 11,
   "metadata": {
    "collapsed": false,
    "ExecuteTime": {
     "end_time": "2023-12-29T17:56:05.450389Z",
     "start_time": "2023-12-29T17:56:05.432536Z"
    }
   },
   "outputs": [],
   "source": [
    "def is_test_file(filename):\n",
    "    return filename.endswith(\"Test.java\")\n",
    "\n",
    "def is_class_file(filename):\n",
    "    return not filename.endswith(\"Test.java\") and filename.endswith(\".java\")\n",
    "\n",
    "def get_class_file_name(test_filename):\n",
    "    return test_filename.replace(\"Test\", \"\")\n",
    "\n",
    "def get_test_file_name(class_filename):\n",
    "    return class_filename.replace(\".java\", \"Test.java\")"
   ],
   "id": "c8c101010e52f299"
  },
  {
   "cell_type": "code",
   "execution_count": 12,
   "metadata": {
    "collapsed": false,
    "ExecuteTime": {
     "end_time": "2023-12-29T17:56:07.308494Z",
     "start_time": "2023-12-29T17:56:07.297064Z"
    }
   },
   "outputs": [],
   "source": [
    "def tdd_check(commits):\n",
    "    visited_test_files = []\n",
    "    visited_class_files = []\n",
    "    tdd_set = []\n",
    "    tdd = 0\n",
    "    non_tdd = 0\n",
    "    same = 0\n",
    "\n",
    "    with open(commits, \"r\") as files:\n",
    "        for line in files:\n",
    "            changed_files = line.split()\n",
    "            for file in changed_files:\n",
    "                if is_test_file(file) and file not in visited_test_files:\n",
    "                    if get_class_file_name(file) in visited_class_files:\n",
    "                        non_tdd += 1\n",
    "                    elif get_class_file_name(file) in changed_files:\n",
    "                        same += 1\n",
    "                    visited_test_files.append(file)\n",
    "                if is_class_file(file) and file not in visited_class_files:\n",
    "                    if get_test_file_name(file) in visited_test_files:\n",
    "                        tdd += 1\n",
    "                        tdd_set.append(file)\n",
    "            # increase visited class files after a line is read\n",
    "            for file in changed_files:\n",
    "                if is_class_file(file):\n",
    "                    visited_class_files.append(file)\n",
    "\n",
    "    print(\"TDD: \", tdd)\n",
    "    print(\"Non_TDD: \", non_tdd)\n",
    "    print(\"Same: \", same)\n",
    "    print(tdd_set)\n"
   ],
   "id": "14a0ea68dec8da8d"
  },
  {
   "cell_type": "code",
   "execution_count": 13,
   "metadata": {
    "collapsed": false,
    "ExecuteTime": {
     "end_time": "2023-12-29T17:56:11.945233Z",
     "start_time": "2023-12-29T17:56:09.542976Z"
    }
   },
   "outputs": [
    {
     "name": "stdout",
     "output_type": "stream",
     "text": [
      "TDD:  3\n",
      "Non_TDD:  70\n",
      "Same:  67\n",
      "['FlinkEnvParameterParser.java', 'LogicalDagGenerator.java', 'HadoopLoginFactory.java']\n"
     ]
    }
   ],
   "source": [
    "tdd_check(\"commits.txt\")"
   ],
   "id": "ca0e462307b18667"
  },
  {
   "cell_type": "code",
   "execution_count": null,
   "outputs": [],
   "source": [],
   "metadata": {
    "collapsed": false
   },
   "id": "39ad4a7e74cb421c"
  }
 ],
 "metadata": {
  "kernelspec": {
   "display_name": "Python 3",
   "language": "python",
   "name": "python3"
  },
  "language_info": {
   "codemirror_mode": {
    "name": "ipython",
    "version": 2
   },
   "file_extension": ".py",
   "mimetype": "text/x-python",
   "name": "python",
   "nbconvert_exporter": "python",
   "pygments_lexer": "ipython2",
   "version": "2.7.6"
  }
 },
 "nbformat": 4,
 "nbformat_minor": 5
}
