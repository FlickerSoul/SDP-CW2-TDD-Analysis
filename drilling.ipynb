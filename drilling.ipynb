{
 "cells": [
  {
   "cell_type": "code",
   "execution_count": null,
   "outputs": [],
   "source": [
    "from typing import Dict\n",
    "\n",
    "import pydriller\n",
    "import pathlib"
   ],
   "metadata": {
    "collapsed": false
   },
   "id": "f0da7d0b9b8e8e4e"
  },
  {
   "cell_type": "code",
   "execution_count": null,
   "outputs": [],
   "source": [
    "test_modules_path = pathlib.Path(\"test_submodules\")\n",
    "production_modules_path = pathlib.Path(\"production_submodules\")"
   ],
   "metadata": {
    "collapsed": false
   },
   "id": "3da567bc1912e919"
  },
  {
   "cell_type": "code",
   "execution_count": null,
   "outputs": [],
   "source": [
    "from typing import Literal\n",
    "from collections import defaultdict\n",
    "\n",
    "visited_file_names: Dict[str, int] = {}\n",
    "counters: Dict[Literal[\"tdd\", \"same\", \"non-tdd\"], int] = defaultdict(int)"
   ],
   "metadata": {
    "collapsed": false
   },
   "id": "8db7a63c5803b78b"
  },
  {
   "cell_type": "code",
   "execution_count": null,
   "outputs": [],
   "source": [
    "def is_test_file(filename: str) -> bool:\n",
    "    return filename.endswith(\"Test.java\")"
   ],
   "metadata": {
    "collapsed": false
   },
   "id": "167241bf59409f13"
  },
  {
   "cell_type": "code",
   "execution_count": null,
   "outputs": [],
   "source": [
    "def get_code_file_name(filename: str) -> str:\n",
    "    return filename.replace(\"Test.java\", \".java\")"
   ],
   "metadata": {
    "collapsed": false
   },
   "id": "9458cc507f9ae2a5"
  },
  {
   "cell_type": "code",
   "execution_count": null,
   "outputs": [],
   "source": [
    "def get_test_file_name(filename: str) -> str:\n",
    "    return filename.replace(\".java\", \"Test.java\")"
   ],
   "metadata": {
    "collapsed": false
   },
   "id": "9f36aa388cda77d2"
  },
  {
   "cell_type": "code",
   "execution_count": null,
   "outputs": [],
   "source": [
    "for index, commit in enumerate(pydriller.Repository(str((test_modules_path / \"dubboj\").absolute())).traverse_commits()):\n",
    "    # loop from the first commit to the last \n",
    "    \n",
    "    files_in_commit = {modified.filename for modified in commit.modified_files}\n",
    "    \n",
    "    for current_file_name in files_in_commit:\n",
    "        if is_test_file(current_file_name): \n",
    "            if current_file_name not in visited_file_names:\n",
    "                # haven't seen this test before\n",
    "                code_file_name = get_code_file_name(current_file_name)\n",
    "                \n",
    "                if code_file_name in files_in_commit:\n",
    "                    # the code is in the same commit as the test, same\n",
    "                    counters[\"same\"] += 1\n",
    "                else:\n",
    "                    # the code has not been seen, non-tdd\n",
    "                    if code_file_name in visited_file_names:\n",
    "                        # seen code before test\n",
    "                        counters[\"non-tdd\"] += 1\n",
    "        else:\n",
    "            # the current file is a code file\n",
    "            test_file_name = get_test_file_name(current_file_name)\n",
    "            \n",
    "            if test_file_name in visited_file_names:\n",
    "                # the test file has been seen before\n",
    "                counters[\"tdd\"] += 1\n",
    "    \n",
    "    for file_name in files_in_commit:\n",
    "        visited_file_names[file_name] = index\n",
    "        "
   ],
   "metadata": {
    "collapsed": false
   },
   "id": "initial_id"
  },
  {
   "cell_type": "code",
   "execution_count": null,
   "outputs": [],
   "source": [
    "print(counters)"
   ],
   "metadata": {
    "collapsed": false
   },
   "id": "92005fef5cf00239"
  }
 ],
 "metadata": {
  "kernelspec": {
   "display_name": "Python 3",
   "language": "python",
   "name": "python3"
  },
  "language_info": {
   "codemirror_mode": {
    "name": "ipython",
    "version": 2
   },
   "file_extension": ".py",
   "mimetype": "text/x-python",
   "name": "python",
   "nbconvert_exporter": "python",
   "pygments_lexer": "ipython2",
   "version": "2.7.6"
  }
 },
 "nbformat": 4,
 "nbformat_minor": 5
}
