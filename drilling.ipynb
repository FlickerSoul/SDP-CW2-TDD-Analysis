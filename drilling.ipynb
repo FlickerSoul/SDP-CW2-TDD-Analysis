{
 "cells": [
  {
   "cell_type": "code",
   "execution_count": 1,
   "metadata": {
    "collapsed": false,
    "ExecuteTime": {
     "end_time": "2024-01-04T14:06:08.386648Z",
     "start_time": "2024-01-04T14:06:08.204765Z"
    }
   },
   "outputs": [],
   "source": [
    "from pydriller import Repository"
   ],
   "id": "3173d63589fd948a"
  },
  {
   "cell_type": "code",
   "execution_count": 34,
   "metadata": {
    "collapsed": false,
    "ExecuteTime": {
     "end_time": "2024-01-04T16:04:49.233441Z",
     "start_time": "2024-01-04T16:04:49.223487Z"
    }
   },
   "outputs": [],
   "source": [
    "# The Git repo to be analyzed\n",
    "repo_url = 'https://github.com/apache/tomcat.git'\n",
    "# The branch to be treated\n",
    "in_branch = 'main'\n",
    "# traverse the whole commit history in the target branch\n",
    "commits = Repository(repo_url, only_in_branch=in_branch).traverse_commits()"
   ],
   "id": "d1d95fe2845ede63"
  },
  {
   "cell_type": "code",
   "execution_count": 35,
   "metadata": {
    "collapsed": false,
    "ExecuteTime": {
     "end_time": "2024-01-04T16:04:49.587171Z",
     "start_time": "2024-01-04T16:04:49.576542Z"
    }
   },
   "outputs": [],
   "source": [
    "def is_test_file(filename):\n",
    "    return filename.endswith(\".java\") and \"Test\" in filename \n",
    "\n",
    "def is_class_file(filename):\n",
    "    return filename.endswith(\".java\") and \"Test\" not in filename\n",
    "\n",
    "def get_class_file_name(test_filename):\n",
    "    return test_filename.replace(\"Test\", \"\")\n",
    "\n",
    "# \"Test\" are written at the end\n",
    "def get_test_file_name_v1(class_filename):\n",
    "    return class_filename.replace(\".java\", \"Test.java\")\n",
    "\n",
    "# \"Test\" are written at the beginning\n",
    "def get_test_file_name_v2(class_filename):\n",
    "    return \"Test\" + class_filename"
   ],
   "id": "c8c101010e52f299"
  },
  {
   "cell_type": "code",
   "execution_count": 36,
   "metadata": {
    "collapsed": false,
    "ExecuteTime": {
     "end_time": "2024-01-04T16:04:49.972977Z",
     "start_time": "2024-01-04T16:04:49.947884Z"
    }
   },
   "outputs": [],
   "source": [
    "def tdd_check():\n",
    "    visited_test_files = []\n",
    "    visited_class_files = []\n",
    "    before_set = []\n",
    "    same_set = []\n",
    "    before = 0\n",
    "    non_tdd = 0\n",
    "    same = 0\n",
    "    commit_count = 0\n",
    "    merge_commit_count = 0\n",
    "    test_file_count = 0\n",
    "    class_file_count = 0\n",
    "    test_cannot_find_class_count = 0\n",
    "    class_cannot_find_test_count = 0\n",
    "    sizes_of_before_commit = []\n",
    "    sizes_of_same_commit = []\n",
    "    sizes_of_non_tdd_commit = []\n",
    "\n",
    "    for (index, commit) in enumerate(commits):\n",
    "        commit_count += 1\n",
    "        if commit.merge:\n",
    "            merge_commit_count += 1\n",
    "        changed_files = []\n",
    "        for f in commit.modified_files:\n",
    "            if f.change_type.name == \"ADD\" or f.change_type.name == \"RENAME\":\n",
    "                changed_files.append(f.filename)\n",
    "        for file in changed_files:\n",
    "            if is_test_file(file) and file not in visited_test_files:\n",
    "                test_file_count += 1\n",
    "                if get_class_file_name(file) in visited_class_files:\n",
    "                    non_tdd += 1\n",
    "                    sizes_of_non_tdd_commit.append(len(commit.modified_files))\n",
    "                elif get_class_file_name(file) in changed_files:\n",
    "                    print(\"If the 'same' is a merge commit:\", commit.merge)\n",
    "                    same += 1\n",
    "                    same_set.append(file)\n",
    "                    sizes_of_same_commit.append(len(commit.modified_files))\n",
    "                else:\n",
    "                    test_cannot_find_class_count += 1\n",
    "            if is_class_file(file) and file not in visited_class_files:\n",
    "                class_file_count += 1\n",
    "                if get_test_file_name_v1(file) in visited_test_files or get_test_file_name_v2(file) in visited_test_files:\n",
    "                    print(\"If the 'TDD' is a merge commit:\", commit.merge)\n",
    "                    before += 1\n",
    "                    before_set.append(file)\n",
    "                    sizes_of_before_commit.append(len(commit.modified_files))\n",
    "                else:\n",
    "                    class_cannot_find_test_count += 1\n",
    "        # increase visited files after all modified files are visited\n",
    "        for file in changed_files:\n",
    "            if is_class_file(file):\n",
    "                visited_class_files.append(file)\n",
    "            if is_test_file(file):\n",
    "                visited_test_files.append(file)\n",
    "\n",
    "    print(\"Total Commits:\", commit_count)\n",
    "    print(\"Merge commits:\", merge_commit_count)\n",
    "    print(\"Test files:\", test_file_count)\n",
    "    print(\"Class files:\", class_file_count)\n",
    "    print(\"# cases that test file is created before the class file:\", before)\n",
    "    print(\"# cases that test file and class file are created in the same commit:\", same)\n",
    "    print(\"# cases that test file is created after the class file (Non-TDD):\", non_tdd)\n",
    "    print(\"# cases that a test file cannot find its class file:\", test_cannot_find_class_count)\n",
    "    print(\"# cases that a class file cannot find its test file:\", class_cannot_find_test_count)\n",
    "    print(\"The class files using TDD:\", before_set)\n",
    "    print(\"The class files that are created with their test files in the same commit:\", same_set)\n",
    "    print(\"Sizes of before commits:\", sizes_of_before_commit)\n",
    "    print(\"Sizes of same commits:\", sizes_of_same_commit)\n",
    "    print(\"Sizes of non-tdd commits:\", sizes_of_non_tdd_commit)"
   ],
   "id": "14a0ea68dec8da8d"
  },
  {
   "cell_type": "code",
   "execution_count": 37,
   "metadata": {
    "collapsed": false,
    "ExecuteTime": {
     "end_time": "2024-01-04T16:18:11.199588Z",
     "start_time": "2024-01-04T16:04:50.423120Z"
    }
   },
   "outputs": [
    {
     "name": "stdout",
     "output_type": "stream",
     "text": [
      "If the 'same' is a merge commit: False\n",
      "If the 'same' is a merge commit: False\n",
      "If the 'same' is a merge commit: False\n",
      "If the 'same' is a merge commit: False\n",
      "If the 'same' is a merge commit: False\n",
      "If the 'same' is a merge commit: False\n",
      "If the 'same' is a merge commit: False\n",
      "If the 'same' is a merge commit: False\n",
      "If the 'same' is a merge commit: False\n",
      "If the 'same' is a merge commit: False\n",
      "If the 'same' is a merge commit: False\n",
      "If the 'same' is a merge commit: False\n",
      "If the 'same' is a merge commit: False\n",
      "If the 'same' is a merge commit: False\n",
      "If the 'same' is a merge commit: False\n",
      "If the 'same' is a merge commit: False\n",
      "If the 'TDD' is a merge commit: False\n",
      "If the 'TDD' is a merge commit: False\n",
      "If the 'same' is a merge commit: False\n",
      "If the 'same' is a merge commit: False\n",
      "If the 'same' is a merge commit: False\n",
      "If the 'same' is a merge commit: False\n",
      "If the 'same' is a merge commit: False\n",
      "If the 'same' is a merge commit: False\n",
      "If the 'same' is a merge commit: False\n",
      "If the 'same' is a merge commit: False\n",
      "If the 'same' is a merge commit: False\n",
      "If the 'same' is a merge commit: False\n",
      "If the 'same' is a merge commit: False\n",
      "If the 'same' is a merge commit: False\n",
      "If the 'same' is a merge commit: False\n",
      "If the 'same' is a merge commit: False\n",
      "If the 'same' is a merge commit: False\n",
      "If the 'TDD' is a merge commit: False\n",
      "If the 'same' is a merge commit: False\n",
      "If the 'same' is a merge commit: False\n",
      "If the 'same' is a merge commit: False\n",
      "If the 'same' is a merge commit: False\n",
      "If the 'same' is a merge commit: False\n",
      "If the 'same' is a merge commit: False\n",
      "If the 'same' is a merge commit: False\n",
      "If the 'same' is a merge commit: False\n",
      "If the 'same' is a merge commit: False\n",
      "If the 'same' is a merge commit: False\n",
      "If the 'same' is a merge commit: False\n",
      "If the 'TDD' is a merge commit: False\n",
      "If the 'same' is a merge commit: False\n",
      "If the 'same' is a merge commit: False\n",
      "If the 'same' is a merge commit: False\n",
      "If the 'same' is a merge commit: False\n",
      "If the 'same' is a merge commit: False\n",
      "If the 'same' is a merge commit: False\n",
      "If the 'same' is a merge commit: False\n",
      "If the 'same' is a merge commit: False\n",
      "If the 'same' is a merge commit: False\n",
      "If the 'same' is a merge commit: False\n",
      "If the 'same' is a merge commit: False\n",
      "If the 'same' is a merge commit: False\n",
      "Total Commits: 25874\n",
      "Merge commits: 49\n",
      "Test files: 884\n",
      "Class files: 2956\n",
      "# cases that test file is created before the class file: 4\n",
      "# cases that test file and class file are created in the same commit: 54\n",
      "# cases that test file is created after the class file (Non-TDD): 288\n",
      "# cases that a test file cannot find its class file: 542\n",
      "# cases that a class file cannot find its test file: 2952\n",
      "The class files using TDD: ['MediaType.java', 'UpgradeServletInputStream.java', 'EncodingDetector.java', 'Upgrade.java']\n",
      "The class files that are created with their test files in the same commit: ['StatementFinalizerTest.java', 'RemoteIpValveTest.java', 'CompressFilterTest.java', 'TestExpiresFilter.java', 'DedicatedThreadExecutorTest.java', 'TestCounterLatch.java', 'TestLimitLatch.java', 'TestQueryTimeoutInterceptor.java', 'TestConcurrentStack.java', 'TestSynchronizedStack.java', 'TestSynchronizedQueue.java', 'AbstractTestResourceSet.java', 'TestDirResourceSet.java', 'TestFileResourceSet.java', 'TestJarResourceSet.java', 'TestHttpParser2.java', 'TestUriTemplate.java', 'TestELInterpreterFactory.java', 'TestCorsFilter.java', 'TestLocalResolver.java', 'TestWebappServiceLoader.java', 'TestTldParser.java', 'TestTldScanner.java', 'TestWarURLConnection.java', 'TestCookieFilter.java', 'TestCaseInsensitiveKeyMap.java', 'TestHpack.java', 'TestAbstractStream.java', 'TestConfigFileLoader.java', 'TestRestCsrfPreventionFilter.java', 'TestPersistentProviderRegistrations.java', 'TestLoadBalancerDrainingValve.java', 'IPv6UtilsTest.java', 'TestNetMask.java', 'TestVary.java', 'TestEncryptInterceptor.java', 'TestCharsetCache.java', 'TestSameSiteCookies.java', 'TestTokenList.java', 'TestQuotedStringTokenizer.java', 'TestCharsetUtil.java', 'TestJarContents.java', 'TestELInterpreterTagSetters.java', 'TestMethodReference.java', 'TestJSONFilter.java', 'TestBeanSupportFull.java', 'TestBeanSupportStandalone.java', 'TestRateLimitFilter.java', 'TestTimeBucketCounter.java', 'TestNetMaskSet.java', 'TestContextNamingInfoListener.java', 'TestOptionalELResolver.java', 'TestPropertiesRoleMappingListener.java', 'TestRecordELResolver.java']\n",
      "Sizes of before commits: [2, 9, 2, 5]\n",
      "Sizes of same commits: [3, 5, 27, 5, 3, 3, 9, 10, 3, 5, 3, 96, 96, 96, 96, 2, 6, 9, 9, 3, 3, 8, 10, 8, 4, 2, 8, 4, 2, 4, 6, 4, 6, 3, 2, 6, 5, 15, 4, 6, 5, 10, 24, 12, 4, 8, 8, 6, 6, 4, 5, 8, 12, 7]\n",
      "Sizes of non-tdd commits: [25, 25, 25, 25, 2, 4, 3, 1, 6, 6, 1, 15, 2, 9, 9, 9, 9, 1, 3, 1, 17, 42, 42, 42, 42, 42, 42, 42, 40, 27, 27, 1, 5, 1, 1, 12, 3, 1, 3, 4, 3, 4, 1, 1, 6, 1, 4, 16, 1, 1, 1, 2, 3, 3, 2, 1, 1, 1, 3, 6, 3, 5, 3, 2, 2, 2, 4, 3, 2, 4, 3, 5, 5, 8, 8, 1, 1, 11, 11, 2, 3, 1, 3, 3, 2, 1, 1, 9, 1, 1, 1, 6, 1, 1, 1, 2, 3, 4, 6, 3, 3, 2, 3, 1, 2, 2, 5, 15, 4, 2, 4, 2, 3, 8, 8, 2, 5, 1, 2, 19, 19, 2, 3, 1, 2, 1, 3, 2, 4, 2, 1, 1, 3, 3, 9, 5, 3, 14, 11, 2, 10, 2, 2, 2, 2, 2, 2, 2, 2, 2, 3, 5, 4, 4, 4, 4, 2, 13, 13, 8, 3, 2, 3, 4, 4, 1, 3, 1, 1, 2, 2, 14, 3, 3, 5, 4, 2, 3, 1, 3, 3, 1, 1, 9, 2, 1, 1, 4, 1, 1, 2, 4, 1, 3, 3, 3, 3, 2, 6, 10, 5, 7, 7, 7, 7, 7, 7, 5, 5, 6, 2, 2, 5, 2, 3, 1, 3, 3, 6, 4, 5, 2, 4, 6, 3, 5, 2, 3, 1, 1, 4, 3, 3, 4, 4, 2, 3, 4, 6, 14, 4, 3, 1, 4, 4, 3, 1, 4, 3, 3, 2, 7, 1, 1, 2, 4, 3, 8, 4, 3, 3, 2, 4, 3, 2, 1, 1, 3, 2, 5, 19, 6, 8, 3, 5, 5, 3, 1, 4, 438, 1, 5, 2, 2, 5, 4, 5, 12]\n"
     ]
    }
   ],
   "source": [
    "tdd_check()"
   ],
   "id": "ca0e462307b18667"
  },
  {
   "cell_type": "code",
   "execution_count": null,
   "outputs": [],
   "source": [],
   "metadata": {
    "collapsed": false
   },
   "id": "39ad4a7e74cb421c"
  }
 ],
 "metadata": {
  "kernelspec": {
   "display_name": "Python 3",
   "language": "python",
   "name": "python3"
  },
  "language_info": {
   "codemirror_mode": {
    "name": "ipython",
    "version": 2
   },
   "file_extension": ".py",
   "mimetype": "text/x-python",
   "name": "python",
   "nbconvert_exporter": "python",
   "pygments_lexer": "ipython2",
   "version": "2.7.6"
  }
 },
 "nbformat": 4,
 "nbformat_minor": 5
}
