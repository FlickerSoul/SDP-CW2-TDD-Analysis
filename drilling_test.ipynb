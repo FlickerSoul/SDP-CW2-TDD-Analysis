{
 "cells": [
  {
   "cell_type": "code",
   "execution_count": 1,
   "id": "97f6c509a646c043",
   "metadata": {
    "collapsed": false,
    "ExecuteTime": {
     "end_time": "2024-01-03T22:41:27.084185Z",
     "start_time": "2024-01-03T22:39:40.295610Z"
    }
   },
   "outputs": [],
   "source": [
    "from typing import Dict, Literal, NamedTuple, Set\n",
    "from collections import defaultdict\n",
    "\n",
    "import pydriller\n",
    "import pathlib\n",
    "\n",
    "test_modules_path = pathlib.Path(\"test_submodules\")\n",
    "production_modules_path = pathlib.Path(\"production_submodules\")\n",
    "InstanceType = Literal[\"tdd\", \"same\", \"non-tdd\", \"no-match\"]\n",
    "\n",
    "\n",
    "class Instance(NamedTuple):\n",
    "    code_commit_index: int\n",
    "    test_commit_index: int\n",
    "    code_name: str\n",
    "    test_name: str\n",
    "\n",
    "\n",
    "def is_test_file(filename: str) -> bool:\n",
    "    return filename.endswith(\"Test.java\") or filename.startswith(\"Test\")\n",
    "\n",
    "\n",
    "def get_code_file_name(filename: str) -> str:\n",
    "    return filename.replace(\"Test\", \"\")\n",
    "\n",
    "\n",
    "def get_test_file_name(filename: str) -> str:\n",
    "    return filename.replace(\".java\", \"Test.java\")\n",
    "\n",
    "\n",
    "from typing import Tuple\n",
    "from pydriller import ModificationType\n",
    "\n",
    "repo_path = test_modules_path / \"dubboj\"\n",
    "\n",
    "deleted_files: Dict[str, int] = {}\n",
    "all_java_files: Dict[str, list[(int, int)]] = defaultdict(list)\n",
    "full_path = str(repo_path.absolute())\n",
    "merge_commits = {}\n",
    "repo = pydriller.Repository(full_path, only_in_branch=\"3.2\")\n",
    "index = 0\n",
    "\n",
    "for index, commit in enumerate(repo.traverse_commits()):\n",
    "    if commit.merge:\n",
    "        merge_commits[index] = commit\n",
    "\n",
    "    for file in commit.modified_files:\n",
    "        if file.filename.endswith(\".java\"):\n",
    "            # if it's a java file\n",
    "            match file.change_type:\n",
    "                case ModificationType.ADD | ModificationType.RENAME:\n",
    "                    if file.change_type == ModificationType.RENAME:\n",
    "                        old_file_name = pathlib.Path(file.old_path).name\n",
    "                        new_file_name = pathlib.Path(file.new_path).name\n",
    "                        \n",
    "                        if old_file_name == new_file_name:\n",
    "                            # if the file is renamed but the name is the same, it's just a change of directory\n",
    "                            continue\n",
    "                        \n",
    "                    if file.filename in all_java_files:\n",
    "                        # seen before\n",
    "                        if all_java_files[file.filename] == index:\n",
    "                            # in the same commit, which shouldn't happen\n",
    "                            raise Exception(\"what\")\n",
    "\n",
    "                        # if it's not in the same commit, check if it's deleted before\n",
    "                        if file.filename in deleted_files:\n",
    "                            # and has been deleted before, add a new record to it\n",
    "\n",
    "                            # add a new entry, with the deleted index, and newly added index\n",
    "                            all_java_files[file.filename].append((deleted_files[file.filename], index))\n",
    "\n",
    "                            # remove the deleted index\n",
    "                            del deleted_files[file.filename]\n",
    "                    else:\n",
    "                        # not seen before\n",
    "                        # -1 as deleted index means it's a new file and is seen for the first time\n",
    "                        all_java_files[file.filename].append((-1, index))\n",
    "\n",
    "                    if file.change_type == ModificationType.RENAME:\n",
    "                        # mark the old file as deleted\n",
    "                        old_file_name = pathlib.Path(file.old_path).name\n",
    "                        deleted_files[old_file_name] = index\n",
    "                        # print(f\"{file.old_path} => {file.new_path}\")\n",
    "                case ModificationType.COPY:\n",
    "                    # I don't think anyone is using copy in git?\n",
    "                    raise Exception(\"Do not support copy\")\n",
    "                case ModificationType.DELETE:\n",
    "                    # if it's deleted, add it to the deleted_files\n",
    "                    deleted_files[file.filename] = index\n",
    "                case _:\n",
    "                    # modify, copy, unmerged, unknown\n",
    "                    # we don't care in this case\n",
    "                    pass\n",
    "\n",
    "for deleted_file in deleted_files:\n",
    "    all_java_files[deleted_file].append((deleted_files[deleted_file], float(\"inf\")))\n"
   ]
  },
  {
   "cell_type": "code",
   "execution_count": 2,
   "outputs": [
    {
     "name": "stdout",
     "output_type": "stream",
     "text": [
      "tdd:  35\n",
      "same:  426\n",
      "non-tdd:  466\n",
      "no-match:  213\n",
      "test file 1089\n",
      "all java files 4759\n"
     ]
    }
   ],
   "source": [
    "\n",
    "counters: Dict[InstanceType, Dict[str, list[Tuple[int, int]]]] = defaultdict(lambda: defaultdict(list))\n",
    "test_files = set()\n",
    "\n",
    "for file, file_indices in all_java_files.items():\n",
    "    if is_test_file(file):\n",
    "        test_files.add(file)\n",
    "\n",
    "        code_file_name = file.replace(\"Test\", \"\")\n",
    "\n",
    "        if code_file_name == '.java':\n",
    "            # not a valid test file \n",
    "            counters[\"no-match\"][file] = []\n",
    "            continue\n",
    "\n",
    "        code_file_indices = all_java_files.get(code_file_name, None)\n",
    "\n",
    "        if code_file_indices is None:\n",
    "            # no code file\n",
    "            counters[\"no-match\"][file] = []\n",
    "            continue\n",
    "\n",
    "        for code_file_del_index, code_file_add_index in code_file_indices:\n",
    "            if code_file_add_index == float(\"inf\"):\n",
    "                break\n",
    "                \n",
    "            has_test = None\n",
    "            for test_file_del_index, test_file_add_index in file_indices:\n",
    "                if test_file_add_index == float(\"inf\"):\n",
    "                    break\n",
    "                # we need to go through all test file indices because it could be \n",
    "                # -1 ... test_add ... test_del ... code_add ... test_add\n",
    "                # ---------------     ----------------------------------\n",
    "                #  test index 1                 test index 2\n",
    "                # when the code add sees the first index, it thinks the code has a test\n",
    "                # but the second index shows that the test is deleted, and added after the code\n",
    "                if test_file_del_index < code_file_add_index and test_file_add_index <= code_file_add_index:\n",
    "                    # test_del ... test_add ... code_add \n",
    "                    # this means test is before code\n",
    "                    has_test = test_file_add_index\n",
    "                elif test_file_del_index < code_file_add_index < test_file_add_index:\n",
    "                    # test_del ... code_add ... test_add \n",
    "                    # this means test is after code\n",
    "                    has_test = None\n",
    "                else:\n",
    "                    # code_add ... test_del ... test_add\n",
    "                    # otherwise, the test is added later than the code, so no has_test flag \n",
    "                    # just break\n",
    "                    break\n",
    "\n",
    "            if has_test is None:\n",
    "                counters[\"non-tdd\"][file].append((has_test, code_file_add_index))\n",
    "            elif has_test == code_file_add_index:\n",
    "                counters[\"same\"][file].append((has_test, code_file_add_index))\n",
    "            elif has_test < code_file_add_index:\n",
    "                counters[\"tdd\"][file].append((has_test, code_file_add_index))\n",
    "            else:\n",
    "                raise Exception(\"Impossible\")\n",
    "\n",
    "print(\"tdd: \", len(counters[\"tdd\"]))\n",
    "print(\"same: \", len(counters[\"same\"]))\n",
    "print(\"non-tdd: \", len(counters[\"non-tdd\"]))\n",
    "print(\"no-match: \", len(counters[\"no-match\"]))\n",
    "print(\"test file\", len(test_files))\n",
    "print(\"all java files\", len(all_java_files))\n",
    "\n",
    "\n",
    "# test_repo = pydriller.Repository(\"/Users/flicker_soul/Documents/Developer/tmp/sdpcw2\")\n",
    "# for commit in test_repo.traverse_commits():\n",
    "#     print(list(map(lambda x: (x.filename, x.change_type), commit.modified_files)))\n"
   ],
   "metadata": {
    "collapsed": true,
    "ExecuteTime": {
     "end_time": "2024-01-03T22:41:27.091222Z",
     "start_time": "2024-01-03T22:41:27.086127Z"
    }
   },
   "id": "initial_id"
  },
  {
   "cell_type": "code",
   "execution_count": 3,
   "outputs": [
    {
     "data": {
      "text/plain": "[('AbstractStreamTest.java', [(5201, 5362)]),\n ('AnnotationUtilsTest.java', [(3975, 3977)]),\n ('ClassUtilsTest.java', [(2435, 3381), (2435, 3980)]),\n ('ClientStreamTest.java', [(5201, 5362)]),\n ('ConfigTest.java', [(231, 1530), (231, 5170)]),\n ('ConsumerContextFilterTest.java', [(1, 3965)]),\n ('DubboApplicationContextInitializerTest.java', [(2448, 4570)]),\n ('DubboBootstrapTest.java', [(3519, 3966)]),\n ('GenericProtobufObjectOutputTest.java', [(3400, 3841)]),\n ('GenericProtobufSerializationTest.java', [(3400, 3841)]),\n ('GrpcProtocolTest.java', [(4731, 6288)]),\n ('JSONTest.java', [(229, 5512)]),\n ('LoadBalanceTest.java', [(1, 2386)]),\n ('MetadataTest.java', [(2669, 4577)]),\n ('MethodTest.java', [(2585, 3255)]),\n ('MetricsFilterTest.java', [(3254, 3345)]),\n ('NacosMetadataReportTest.java', [(3418, 4638)]),\n ('NettyServerTest.java', [(4518, 6571)]),\n ('ParametersTest.java', [(1, 216)]),\n ('PerformanceConsumerTest.java', [(1, 1439)]),\n ('PerformanceProviderTest.java', [(1, 1439)]),\n ('PropertySourcesUtilsTest.java', [(3980, 6794)]),\n ('ReferenceBuilderTest.java', [(3241, 3878)]),\n ('ReflectionUtilsTest.java', [(2056, 6647)]),\n ('RegistryStatCompositeTest.java', [(6391, 6967)]),\n ('RequestEventTest.java', [(5692, 6689)]),\n ('RpcResultTest.java', [(2901, 6737)]),\n ('ServerStreamTest.java', [(5201, 5362)]),\n ('ServiceBuilderTest.java', [(3241, 3878)]),\n ('StatusTest.java', [(2285, 2386)]),\n ('TestProcessor.java', [(4163, 5170)]),\n ('TestTypeBuilder.java', [(4359, 4508)]),\n ('TraceFilterTest.java', [(4616, 6914)]),\n ('UrlUtilsTest.java', [(142, 3437)]),\n ('ValidationTest.java', [(743, 786)])]"
     },
     "execution_count": 3,
     "metadata": {},
     "output_type": "execute_result"
    }
   ],
   "source": [
    "sorted(counters[\"tdd\"].items())\n",
    "# all_java_files[\"AbsentConfiguratorTest.java\"]"
   ],
   "metadata": {
    "collapsed": false,
    "ExecuteTime": {
     "end_time": "2024-01-03T22:41:27.105452Z",
     "start_time": "2024-01-03T22:41:27.090373Z"
    }
   },
   "id": "83e11ee19e03f5e5"
  },
  {
   "cell_type": "code",
   "execution_count": 4,
   "outputs": [
    {
     "data": {
      "text/plain": "{'AbstractStreamTest.java',\n 'AnnotatedBeanDefinitionRegistryUtilsTest.java',\n 'AnnotationUtilsTest.java',\n 'CacheableFailbackRegistryTest.java',\n 'ClassUtilsTest.java',\n 'ClientStreamTest.java',\n 'CompilerTest.java',\n 'DubboBootstrapTest.java',\n 'ExecutionListTest.java',\n 'GrpcProtocolTest.java',\n 'JettyHttpBinderTest.java',\n 'NettyServerTest.java',\n 'ParseUtilsTest.java',\n 'ProtobufUtilsTest.java',\n 'ReferenceConfigCacheTest.java',\n 'ReferenceConfigTest.java',\n 'RegistryStatCompositeTest.java',\n 'RestServiceTest.java',\n 'RouteRuleTest.java',\n 'RouteRuleUtilsTest.java',\n 'RouteUtilsTest.java',\n 'RpcResultTest.java',\n 'ServerStreamTest.java',\n 'ServiceConfigTest.java',\n 'ServiceDefinitionBuilderTest.java',\n 'StatusTest.java',\n 'TagRouterTest.java',\n 'TestConsumerConfiguration.java',\n 'TestTypeBuilder.java',\n 'TomcatHttpBinderTest.java',\n 'TraceFilterTest.java',\n 'UrlUtilsTest.java',\n 'ZkClientWrapperTest.java',\n 'ZkclientZookeeperClientTest.java',\n 'ZkclientZookeeperTransporterTest.java'}"
     },
     "execution_count": 4,
     "metadata": {},
     "output_type": "execute_result"
    }
   ],
   "source": [
    "set(counters[\"tdd\"].keys()).union(counters[\"same\"].keys()).intersection(counters[\"non-tdd\"].keys())"
   ],
   "metadata": {
    "collapsed": false,
    "ExecuteTime": {
     "end_time": "2024-01-03T22:41:27.105819Z",
     "start_time": "2024-01-03T22:41:27.093234Z"
    }
   },
   "id": "5966aa21deedc6e7"
  },
  {
   "cell_type": "code",
   "execution_count": 5,
   "outputs": [
    {
     "data": {
      "text/plain": "[(None, 4518)]"
     },
     "execution_count": 5,
     "metadata": {},
     "output_type": "execute_result"
    }
   ],
   "source": [
    "counters[\"non-tdd\"]['AbstractStreamTest.java']\n"
   ],
   "metadata": {
    "collapsed": false,
    "ExecuteTime": {
     "end_time": "2024-01-03T22:41:27.105998Z",
     "start_time": "2024-01-03T22:41:27.096620Z"
    }
   },
   "id": "25fcbdd2fb7b4498"
  },
  {
   "cell_type": "code",
   "execution_count": 6,
   "outputs": [
    {
     "data": {
      "text/plain": "[]"
     },
     "execution_count": 6,
     "metadata": {},
     "output_type": "execute_result"
    }
   ],
   "source": [
    "counters[\"same\"]['AbstractStreamTest.java']\n"
   ],
   "metadata": {
    "collapsed": false,
    "ExecuteTime": {
     "end_time": "2024-01-03T22:41:27.106165Z",
     "start_time": "2024-01-03T22:41:27.099023Z"
    }
   },
   "id": "e3d0cec7bb8d8432"
  },
  {
   "cell_type": "code",
   "execution_count": 7,
   "outputs": [
    {
     "data": {
      "text/plain": "[(5201, 5362)]"
     },
     "execution_count": 7,
     "metadata": {},
     "output_type": "execute_result"
    }
   ],
   "source": [
    "counters[\"tdd\"]['AbstractStreamTest.java']"
   ],
   "metadata": {
    "collapsed": false,
    "ExecuteTime": {
     "end_time": "2024-01-03T22:41:27.106336Z",
     "start_time": "2024-01-03T22:41:27.101231Z"
    }
   },
   "id": "fc1d85b6a472361b"
  },
  {
   "cell_type": "code",
   "execution_count": 8,
   "outputs": [
    {
     "data": {
      "text/plain": "[(-1, 5201), (5362, inf)]"
     },
     "execution_count": 8,
     "metadata": {},
     "output_type": "execute_result"
    }
   ],
   "source": [
    "all_java_files[\"AbstractStreamTest.java\"]"
   ],
   "metadata": {
    "collapsed": false,
    "ExecuteTime": {
     "end_time": "2024-01-03T22:41:27.106491Z",
     "start_time": "2024-01-03T22:41:27.103478Z"
    }
   },
   "id": "90f7cd294420287d"
  },
  {
   "cell_type": "code",
   "execution_count": 9,
   "outputs": [
    {
     "data": {
      "text/plain": "[(-1, 4518), (5362, 5362)]"
     },
     "execution_count": 9,
     "metadata": {},
     "output_type": "execute_result"
    }
   ],
   "source": [
    "all_java_files[\"AbstractStream.java\"]"
   ],
   "metadata": {
    "collapsed": false,
    "ExecuteTime": {
     "end_time": "2024-01-03T22:41:27.139497Z",
     "start_time": "2024-01-03T22:41:27.106718Z"
    }
   },
   "id": "38c1f9ba112276d9"
  },
  {
   "cell_type": "code",
   "execution_count": 21,
   "outputs": [],
   "source": [
    "with open(\"dubbo.txt\", \"w\") as f:\n",
    "    f.write(\"\\n\".join(commit.msg + \" => \" + \" \".join(map(lambda x: f\"{x.filename}|{x.change_type}\", commit.modified_files)) for commit in repo.traverse_commits()))"
   ],
   "metadata": {
    "collapsed": false,
    "ExecuteTime": {
     "end_time": "2024-01-03T23:37:57.746714Z",
     "start_time": "2024-01-03T23:36:17.635893Z"
    }
   },
   "id": "1819acc5f8eae6a9"
  },
  {
   "cell_type": "code",
   "execution_count": 15,
   "outputs": [],
   "source": [
    "mg = merge_commits[5361]"
   ],
   "metadata": {
    "collapsed": false,
    "ExecuteTime": {
     "end_time": "2024-01-03T22:58:44.687833Z",
     "start_time": "2024-01-03T22:58:44.683279Z"
    }
   },
   "id": "ce5555f6a853dba9"
  },
  {
   "cell_type": "code",
   "execution_count": 18,
   "outputs": [],
   "source": [
    "p1 = list(pydriller.Repository(full_path, only_commits=['8686d8d54a0653f4be50ab15c7b372a1cbc00c68']).traverse_commits())\n",
    "p2 = list(pydriller.Repository(full_path, only_commits=['e4c036d287c33a47a1d4f44d66e959e18a5b3ab8']).traverse_commits())"
   ],
   "metadata": {
    "collapsed": false,
    "ExecuteTime": {
     "end_time": "2024-01-03T23:00:33.671889Z",
     "start_time": "2024-01-03T23:00:32.488766Z"
    }
   },
   "id": "e54ffc87642b314e"
  },
  {
   "cell_type": "code",
   "execution_count": 20,
   "outputs": [
    {
     "data": {
      "text/plain": "<pydriller.domain.commit.Commit at 0x111ff9910>"
     },
     "execution_count": 20,
     "metadata": {},
     "output_type": "execute_result"
    }
   ],
   "source": [],
   "metadata": {
    "collapsed": false,
    "ExecuteTime": {
     "end_time": "2024-01-03T23:03:25.189770Z",
     "start_time": "2024-01-03T23:03:24.618004Z"
    }
   },
   "id": "556697ae95fc9a0c"
  },
  {
   "cell_type": "code",
   "execution_count": null,
   "outputs": [],
   "source": [],
   "metadata": {
    "collapsed": false
   },
   "id": "db329a8201182017"
  }
 ],
 "metadata": {
  "kernelspec": {
   "display_name": "Python 3",
   "language": "python",
   "name": "python3"
  },
  "language_info": {
   "codemirror_mode": {
    "name": "ipython",
    "version": 2
   },
   "file_extension": ".py",
   "mimetype": "text/x-python",
   "name": "python",
   "nbconvert_exporter": "python",
   "pygments_lexer": "ipython2",
   "version": "2.7.6"
  }
 },
 "nbformat": 4,
 "nbformat_minor": 5
}
